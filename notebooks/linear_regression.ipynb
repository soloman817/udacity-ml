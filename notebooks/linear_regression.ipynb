{
 "cells": [
  {
   "cell_type": "markdown",
   "metadata": {},
   "source": [
    "## Partial derivative equations\n",
    "\n",
    "A linear equation is defined as:\n",
    "\n",
    "$$ y(x_{0},x_{1},\\ldots,x_{n}) = b + m_{0} x_{0} + m_{1} x_{1} + \\ldots + m_{n} x_{n} $$\n",
    "\n",
    "To simplify, let's consider one slope `m` and one intercept `b`:\n",
    "\n",
    "$$ y(x) = b + m x $$\n",
    "\n",
    "Loss function is defined as:\n",
    "\n",
    "$$ L(b,m)\n",
    " = \\frac{1}{2N} \\sum_{i=1}^N (y(x_{i}) - y_{i})^2\n",
    " = \\frac{1}{2N} \\sum_{i=1}^N (b + m x_{i} - y_{i})^2 $$\n",
    "\n",
    "Let\n",
    "\n",
    "$$ g(x) = \\frac{1}{2N} \\sum_{i=1}^N x^2 $$\n",
    "\n",
    "$$ f(b,m) = b + m x_{i} - y_{i}  $$\n",
    "\n",
    "Then we can rewrite loss function as:\n",
    "\n",
    "$$ L(b,m) = \\frac{1}{2N} \\sum_{i=1}^N f(b,m)^2 = g(f(b,m)) $$\n",
    "\n",
    "To calculate the gradient, we use chain rule:\n",
    "\n",
    "$$ \\frac{\\partial}{\\partial x} g(x)\n",
    " = \\frac{\\partial}{\\partial x} (\\frac{1}{2N} \\sum_{i=1}^N x^2)\n",
    " = \\frac{2}{2N} \\sum_{i=1}^N x \n",
    " = \\frac{1}{N} \\sum_{i=1}^N x $$\n",
    "\n",
    "$$ \\frac{\\partial}{\\partial b} f(b,m)\n",
    " = \\frac{\\partial}{\\partial b} (b + m x_{i} - y_{i}) \n",
    " = b^0 + 0 - 0\n",
    " = 1 $$\n",
    "\n",
    "$$ \\frac{\\partial}{\\partial m} f(b,m) \n",
    " = \\frac{\\partial}{\\partial m} (b + m x_{i} - y_{i})\n",
    " = 0 + x_{i} m^0 - 0\n",
    " = x_{i} $$\n",
    "\n",
    "$$ \\frac{\\partial}{\\partial b} L(b,m)\n",
    " = \\frac{\\partial}{\\partial b} g(f(b,m))\n",
    " = \\frac{\\partial}{\\partial b} g(f(b,m)) \\cdot \\frac{\\partial}{\\partial b} f(b,m)\n",
    " = \\frac{\\partial}{\\partial b} g(b + m x_{i} - y_{i}) \\cdot \\frac{\\partial}{\\partial b} f(m,b)\n",
    " = \\frac{1}{N} \\sum_{i=1}^N (b + m x_{i} - y_{i}) $$\n",
    "\n",
    "$$ \\frac{\\partial}{\\partial m} L(b,m)\n",
    " = \\frac{\\partial}{\\partial m} g(f(b,m))\n",
    " = \\frac{\\partial}{\\partial m} g(f(b,m)) \\cdot \\frac{\\partial}{\\partial m} f(b,m)\n",
    " = \\frac{\\partial}{\\partial m} g(b + m x_{i} - y_{i}) \\cdot \\frac{\\partial}{\\partial m} f(m,b)\n",
    " = \\frac{1}{N} \\sum_{i=1}^N (b + m x_{i} - y_{i}) x_{i} $$\n"
   ]
  },
  {
   "cell_type": "code",
   "execution_count": 1,
   "metadata": {
    "collapsed": true
   },
   "outputs": [],
   "source": [
    "%matplotlib inline\n",
    "import random\n",
    "import numpy as np\n",
    "import matplotlib.pyplot as plt\n",
    "import pandas as pd\n",
    "from sklearn.linear_model import LinearRegression"
   ]
  },
  {
   "cell_type": "markdown",
   "metadata": {},
   "source": [
    "## Function to calculate loss\n",
    "\n",
    "$$ L(b,m) = \\frac{1}{2N} \\sum_{i=1}^N (b + m x_{i} - y_{i})^2 $$"
   ]
  },
  {
   "cell_type": "code",
   "execution_count": 2,
   "metadata": {
    "collapsed": true
   },
   "outputs": [],
   "source": [
    "def loss(b, m, points):\n",
    "    total_error = 0.0\n",
    "    n = len(points)\n",
    "    for i in range(0, n):\n",
    "        x = points[i, 0]\n",
    "        y = points[i, 1]\n",
    "        total_error += (b + m * x - y) ** 2\n",
    "    return total_error / (2.0 * float(n))"
   ]
  },
  {
   "cell_type": "markdown",
   "metadata": {},
   "source": [
    "## Function to calculate gradient\n",
    "\n",
    "$$ \\frac{\\partial}{\\partial b} L(b,m) = \\frac{1}{N} \\sum_{i=1}^N (b + m x_{i} - y_{i}) $$\n",
    "\n",
    "$$ \\frac{\\partial}{\\partial m} L(b,m) = \\frac{1}{N} \\sum_{i=1}^N (b + m x_{i} - y_{i}) x_{i} $$"
   ]
  },
  {
   "cell_type": "code",
   "execution_count": 3,
   "metadata": {
    "collapsed": true
   },
   "outputs": [],
   "source": [
    "def gradient(b, m, points):\n",
    "    gradient_b = 0.0\n",
    "    gradient_m = 0.0\n",
    "    n = len(points)\n",
    "    for i in range(0, n):\n",
    "        x = points[i, 0]\n",
    "        y = points[i, 1]\n",
    "        tmp = b + m * x - y\n",
    "        gradient_b += tmp\n",
    "        gradient_m += tmp * x\n",
    "    gradient_b = gradient_b / (float(n))\n",
    "    gradient_m = gradient_m / (float(n))\n",
    "    return gradient_b, gradient_m"
   ]
  },
  {
   "cell_type": "markdown",
   "metadata": {},
   "source": [
    "## Fit ourselves"
   ]
  },
  {
   "cell_type": "code",
   "execution_count": 4,
   "metadata": {},
   "outputs": [
    {
     "name": "stdout",
     "output_type": "stream",
     "text": [
      "b = 3.713804  m = 1.090276  error = 180.016910\n",
      "b = 3.723239  m = 1.406313  error = 55.472510\n",
      "y(10.234560) = 18.116234\n",
      "y(40.234540) = 60.305595\n",
      "y(32.394560) = 49.280129\n",
      "y(88.234530) = 127.808604\n"
     ]
    }
   ],
   "source": [
    "points = np.genfromtxt(\"linear_regression_data.csv\", delimiter=\",\")\n",
    "learning_rate = 0.00001\n",
    "b = random.uniform(0, 5.0)\n",
    "m = random.uniform(0, 5.0)\n",
    "num_iterations = 2000\n",
    "\n",
    "print(\"b = %f  m = %f  error = %f\" % (b, m, loss(b, m, points)))\n",
    "\n",
    "for i in range(num_iterations):\n",
    "    gradient_b, gradient_m = gradient(b, m, points)\n",
    "    b -= learning_rate * gradient_b\n",
    "    m -= learning_rate * gradient_m\n",
    "    #print(\"[%d] b = %f  m = %f  error = %f\" % (i, b, m, loss(b, m, points)))\n",
    "    \n",
    "print(\"b = %f  m = %f  error = %f\" % (b, m, loss(b, m, points)))\n",
    "\n",
    "def predict(x):\n",
    "    y = b + m * x\n",
    "    print(\"y(%f) = %f\" %(x, y))\n",
    "\n",
    "predict(10.23456)\n",
    "predict(40.23454)\n",
    "predict(32.39456)\n",
    "predict(88.23453)"
   ]
  },
  {
   "cell_type": "markdown",
   "metadata": {},
   "source": [
    "## Fit using scikit"
   ]
  },
  {
   "cell_type": "code",
   "execution_count": 5,
   "metadata": {},
   "outputs": [
    {
     "name": "stdout",
     "output_type": "stream",
     "text": [
      "b = 7.991021  m = 1.322431  error = 55.128692\n",
      "y(10.234560) = 21.525521   y(10.234560) = 21.525521\n",
      "y(40.234540) = 61.198425   y(40.234540) = 61.198425\n",
      "y(32.394560) = 50.830592   y(32.394560) = 50.830592\n",
      "y(88.234530) = 124.675101   y(88.234530) = 124.675101\n"
     ]
    }
   ],
   "source": [
    "# verify with scikit-learn\n",
    "model = LinearRegression()\n",
    "x_values = points[:, 0].reshape(-1, 1)\n",
    "y_values = points[:, 1].reshape(-1, 1)\n",
    "model.fit(x_values, y_values)\n",
    "b_ = model.intercept_[0]\n",
    "m_ = model.coef_[0]\n",
    "print(\"b = %f  m = %f  error = %f\" % (b_, m_, loss(b_, m_, points)))\n",
    "\n",
    "def predict_(x):\n",
    "    y = b_ + m_ * x\n",
    "    print(\"y(%f) = %f   y(%f) = %f\" %(x, y, x, model.predict(x)))\n",
    "\n",
    "predict_(10.23456)\n",
    "predict_(40.23454)\n",
    "predict_(32.39456)\n",
    "predict_(88.23453)"
   ]
  },
  {
   "cell_type": "markdown",
   "metadata": {},
   "source": [
    "## Plot our line and scikit line"
   ]
  },
  {
   "cell_type": "code",
   "execution_count": 6,
   "metadata": {},
   "outputs": [
    {
     "data": {
      "text/plain": [
       "<matplotlib.legend.Legend at 0x1d341448c50>"
      ]
     },
     "execution_count": 6,
     "metadata": {},
     "output_type": "execute_result"
    },
    {
     "data": {
      "image/png": "[encoded data removed]",
      "text/plain": [
       "<matplotlib.figure.Figure at 0x1d34126cf60>"
      ]
     },
     "metadata": {},
     "output_type": "display_data"
    }
   ],
   "source": [
    "plot_x = np.linspace(20, 80, num=100)\n",
    "plot_y1 = [ b + m * x for x in plot_x]\n",
    "plot_y2 = [ b_ + m_ * x for x in plot_x]\n",
    "\n",
    "plt.figure(figsize=(10,10))\n",
    "plt.plot(points[:, 0], points[:, 1], \"o\", color=\"blue\", label=\"sample points\")\n",
    "plt.plot(plot_x, plot_y1, color=\"red\", label=\"our model\")\n",
    "plt.plot(plot_x, plot_y2, color=\"green\", label=\"sci model\")\n",
    "plt.legend(loc='upper left', frameon=False)"
   ]
  },
  {
   "cell_type": "markdown",
   "metadata": {},
   "source": [
    "## Example from Udacity"
   ]
  },
  {
   "cell_type": "code",
   "execution_count": 7,
   "metadata": {},
   "outputs": [
    {
     "name": "stdout",
     "output_type": "stream",
     "text": [
      "life expectancy of Laos is 60.315647\n"
     ]
    }
   ],
   "source": [
    "bmi_life_data = pd.read_csv(\"bmi_and_life_expectancy.csv\")\n",
    "bmi_life_model = LinearRegression()\n",
    "bmi_life_model.fit(bmi_life_data[['BMI']], bmi_life_data[['Life expectancy']])\n",
    "# Predict life expectancy for a BMI value of 21.07931\n",
    "laos_life_exp = bmi_life_model.predict(21.07931)\n",
    "print(\"life expectancy of Laos is %f\" % laos_life_exp)"
   ]
  }
 ],
 "metadata": {
  "kernelspec": {
   "display_name": "Python 3",
   "language": "python",
   "name": "python3"
  },
  "language_info": {
   "codemirror_mode": {
    "name": "ipython",
    "version": 3
   },
   "file_extension": ".py",
   "mimetype": "text/x-python",
   "name": "python",
   "nbconvert_exporter": "python",
   "pygments_lexer": "ipython3",
   "version": "3.6.1"
  }
 },
 "nbformat": 4,
 "nbformat_minor": 2
}
