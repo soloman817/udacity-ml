{
 "cells": [
  {
   "cell_type": "markdown",
   "metadata": {},
   "source": [
    "A linear equation is defined as:\n",
    "\n",
    "$$ y(x_{0},x{1},\\ldots,x{n}) = m_{0} x_{0} + m_{1} x_{1} + \\ldots + m_{n} x_{n} + b $$\n",
    "\n",
    "Loss function:\n",
    "\n",
    "$$ L(m,b) = \\frac{1}{2N} \\sum_{i=1}^N (b + m x_{i} - y_{i})^2 $$\n",
    "\n",
    "Let\n",
    "\n",
    "$$ f(m,b) = b + m x_{i} - y_{i}  $$\n",
    "\n",
    "and\n",
    "\n",
    "$$ g(x) = \\frac{1}{2N} \\sum_{i=1}^N x^2 $$\n",
    "\n",
    "So\n",
    "\n",
    "$$ \\frac{\\partial}{\\partial x} g(x) = \\frac{1}{N} \\sum_{i=1}^N x $$\n",
    "\n",
    "$$ \\frac{\\partial}{\\partial b} f(m,b) = 1 $$\n",
    "\n",
    "$$ \\frac{\\partial}{\\partial m} f(m,b) = x_{i} $$\n",
    "\n",
    "$$ \\frac{\\partial}{\\partial b} g(f(m,b)) = \\frac{\\partial}{\\partial b} g(b + m x_{i} - y_{i}) \\frac{\\partial}{\\partial b} f(m,b) $$\n",
    "\n",
    "$$ \\frac{\\partial}{\\partial b} L(m,b) = \\frac{1}{N} \\sum_{i=1}^N (b + m x_{i} - y_{i}) $$\n",
    "\n",
    "$$ \\frac{\\partial}{\\partial m} L(m,b) = \\frac{1}{N} \\sum_{i=1}^N (b + m x_{i} - y_{i}) x_{i} $$\n"
   ]
  },
  {
   "cell_type": "code",
   "execution_count": 3,
   "metadata": {
    "collapsed": true
   },
   "outputs": [],
   "source": [
    "import numpy as np"
   ]
  },
  {
   "cell_type": "code",
   "execution_count": null,
   "metadata": {
    "collapsed": true
   },
   "outputs": [],
   "source": []
  },
  {
   "cell_type": "markdown",
   "metadata": {},
   "source": [
    "Loss function:\n",
    "\n",
    "$$ L(m,b) = \\frac{1}{2N} \\sum_{i=1}^N (b + m x_{i} - y_{i})^2 $$"
   ]
  },
  {
   "cell_type": "code",
   "execution_count": 12,
   "metadata": {
    "collapsed": true
   },
   "outputs": [],
   "source": [
    "def loss(m, b, points):\n",
    "    sum = 0.0\n",
    "    n = len(points)\n",
    "    for i in range(0, n):\n",
    "        x = points[i, 0]\n",
    "        y = points[i, 1]\n",
    "        sum += (b + m * x - y) ** 2\n",
    "    return sum / (2.0 * float(n))"
   ]
  },
  {
   "cell_type": "code",
   "execution_count": 11,
   "metadata": {},
   "outputs": [
    {
     "data": {
      "text/plain": [
       "[0, 1, 2, 3, 4, 5, 6, 7, 8, 9]"
      ]
     },
     "execution_count": 11,
     "metadata": {},
     "output_type": "execute_result"
    }
   ],
   "source": [
    "points = np.genfromtxt(\"linear_regression_data.csv\", delimiter=\",\")\n",
    "[ x for x in range(0, 10) ]"
   ]
  },
  {
   "cell_type": "code",
   "execution_count": null,
   "metadata": {
    "collapsed": true
   },
   "outputs": [],
   "source": []
  }
 ],
 "metadata": {
  "kernelspec": {
   "display_name": "Python 3",
   "language": "python",
   "name": "python3"
  },
  "language_info": {
   "codemirror_mode": {
    "name": "ipython",
    "version": 3
   },
   "file_extension": ".py",
   "mimetype": "text/x-python",
   "name": "python",
   "nbconvert_exporter": "python",
   "pygments_lexer": "ipython3",
   "version": "3.6.1"
  }
 },
 "nbformat": 4,
 "nbformat_minor": 2
}
